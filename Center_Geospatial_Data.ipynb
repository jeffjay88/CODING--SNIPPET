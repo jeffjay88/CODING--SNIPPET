{
 "cells": [
  {
   "cell_type": "code",
   "execution_count": 7,
   "metadata": {},
   "outputs": [],
   "source": [
    "import xarray as xr"
   ]
  },
  {
   "cell_type": "code",
   "execution_count": 2,
   "metadata": {},
   "outputs": [],
   "source": [
    "EWS_u = xr.open_dataset('ERA1.5/uwnd.2016.00.nc')"
   ]
  },
  {
   "cell_type": "code",
   "execution_count": null,
   "metadata": {},
   "outputs": [],
   "source": [
    "EWS_u1 = EWS_u.assign_coords(\n",
    "    longitude=(\n",
    "        ((EWS_u.longitude + 180) % 360) - 180\n",
    "    )\n",
    ")\n",
    "\n",
    "EWS_u1p = EWS_u1.sortby(\n",
    "    EWS_u1.longitude\n",
    ")"
   ]
  },
  {
   "cell_type": "code",
   "execution_count": 9,
   "metadata": {},
   "outputs": [
    {
     "data": {
      "text/plain": [
       "<xarray.Dataset>\n",
       "Dimensions:    (latitude: 121, level: 37, longitude: 240, time: 366)\n",
       "Coordinates:\n",
       "  * longitude  (longitude) float32 -180.0 -178.5 -177.0 ... 175.5 177.0 178.5\n",
       "  * latitude   (latitude) float32 90.0 88.5 87.0 85.5 ... -87.0 -88.5 -90.0\n",
       "  * level      (level) int32 1 2 3 5 7 10 20 30 ... 850 875 900 925 950 975 1000\n",
       "  * time       (time) datetime64[ns] 2016-01-01 2016-01-02 ... 2016-12-31\n",
       "Data variables:\n",
       "    u          (time, level, latitude, longitude) float32 21.874527 ... -0.37041092\n",
       "Attributes:\n",
       "    Conventions:  CF-1.0\n",
       "    history:      2017-02-03 15:32:21 GMT by grib_to_netcdf-1.13.1: grib_to_n..."
      ]
     },
     "execution_count": 9,
     "metadata": {},
     "output_type": "execute_result"
    }
   ],
   "source": [
    "EWS_u1p"
   ]
  },
  {
   "cell_type": "code",
   "execution_count": 10,
   "metadata": {},
   "outputs": [],
   "source": [
    "EWS_u2 = xr.open_dataset('ERA1.5/uwnd.2016.00.nc')"
   ]
  },
  {
   "cell_type": "code",
   "execution_count": null,
   "metadata": {},
   "outputs": [],
   "source": [
    "EWS_u2['longitude'] = EWS_u2['longitude'].where(EWS_u2['longitude']<180,EWS_u2['longitude']-360 )\n",
    "EWS_u2p = EWS_u2.sortby(\n",
    "    EWS_u2.longitude\n",
    ")"
   ]
  },
  {
   "cell_type": "code",
   "execution_count": 12,
   "metadata": {},
   "outputs": [
    {
     "data": {
      "text/plain": [
       "<xarray.Dataset>\n",
       "Dimensions:    (latitude: 121, level: 37, longitude: 240, time: 366)\n",
       "Coordinates:\n",
       "  * longitude  (longitude) float32 -180.0 -178.5 -177.0 ... 175.5 177.0 178.5\n",
       "  * latitude   (latitude) float32 90.0 88.5 87.0 85.5 ... -87.0 -88.5 -90.0\n",
       "  * level      (level) int32 1 2 3 5 7 10 20 30 ... 850 875 900 925 950 975 1000\n",
       "  * time       (time) datetime64[ns] 2016-01-01 2016-01-02 ... 2016-12-31\n",
       "Data variables:\n",
       "    u          (time, level, latitude, longitude) float32 21.874527 ... -0.37041092\n",
       "Attributes:\n",
       "    Conventions:  CF-1.0\n",
       "    history:      2017-02-03 15:32:21 GMT by grib_to_netcdf-1.13.1: grib_to_n..."
      ]
     },
     "execution_count": 12,
     "metadata": {},
     "output_type": "execute_result"
    }
   ],
   "source": [
    "EWS_u2p"
   ]
  },
  {
   "cell_type": "code",
   "execution_count": null,
   "metadata": {},
   "outputs": [],
   "source": []
  },
  {
   "cell_type": "code",
   "execution_count": null,
   "metadata": {},
   "outputs": [],
   "source": []
  }
 ],
 "metadata": {
  "kernelspec": {
   "display_name": "Python 3",
   "language": "python",
   "name": "python3"
  },
  "language_info": {
   "codemirror_mode": {
    "name": "ipython",
    "version": 3
   },
   "file_extension": ".py",
   "mimetype": "text/x-python",
   "name": "python",
   "nbconvert_exporter": "python",
   "pygments_lexer": "ipython3",
   "version": "3.7.1"
  }
 },
 "nbformat": 4,
 "nbformat_minor": 2
}
